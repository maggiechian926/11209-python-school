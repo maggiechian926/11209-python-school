{
 "cells": [
  {
   "cell_type": "code",
   "execution_count": 3,
   "metadata": {},
   "outputs": [
    {
     "name": "stdout",
     "output_type": "stream",
     "text": [
      "請輸入整數，求所有因數:求25的因數\n",
      "1\n",
      "5\n",
      "25\n"
     ]
    }
   ],
   "source": [
    "#求所有因數\n",
    "import  pyinputplus as pyip\n",
    "\n",
    "#num = int(input(\"請輸入整數，求所有因數:\"))\n",
    "a = pyip.inputInt(prompt=\"請輸入整數，求所有因數:\")\n",
    "print (f\"求{a}的因數\")\n",
    "\n",
    "for i in range(1,a+1):\n",
    "    if a % i ==0:\n",
    "        print(i)\n",
    "    else:\n",
    "        pass\n",
    "\n"
   ]
  },
  {
   "cell_type": "code",
   "execution_count": null,
   "metadata": {},
   "outputs": [],
   "source": [
    "#求公因數\n",
    "\n",
    "import\n",
    "print(\"請輸入2數,求2數公因數:\")\n",
    "n = int(input('請輸入第1個數:'))\n",
    "m = int(input('請輸入第2個數:'))\n",
    "\n",
    "\n",
    "\n",
    "\n"
   ]
  },
  {
   "cell_type": "code",
   "execution_count": null,
   "metadata": {},
   "outputs": [],
   "source": [
    "2~100,每一個的質數\n",
    "end = int(input(\"請輸入end值:\"))\n",
    "print(f\"1到{end}的質數是:\")"
   ]
  },
  {
   "cell_type": "code",
   "execution_count": 1,
   "metadata": {},
   "outputs": [
    {
     "ename": "IndentationError",
     "evalue": "unexpected indent (3261930071.py, line 14)",
     "output_type": "error",
     "traceback": [
      "\u001b[0;36m  Cell \u001b[0;32mIn[1], line 14\u001b[0;36m\u001b[0m\n\u001b[0;31m    try:\u001b[0m\n\u001b[0m    ^\u001b[0m\n\u001b[0;31mIndentationError\u001b[0m\u001b[0;31m:\u001b[0m unexpected indent\n"
     ]
    }
   ],
   "source": [
    "- 猜中要告知猜了幾次\n",
    "- 沒猜中要有提醒\n",
    "import random\n",
    "min = 1\n",
    "max = 100\n",
    "count = 0\n",
    "target = random.randint(min, max)\n",
    "print(\"===============猜數字遊戲=================:\\n\")\n",
    "while(True):\n",
    "   keyin = input(f\"猜數字範圍{min}~{max}\")\n",
    "   min += 1\n",
    "   max += 100\n",
    "  \n",
    "    try:\n",
    "     count < target:\n",
    "          count=input(\"再小一點,您已經猜了1次\")\n",
    "     \n",
    "       \n",
    "       \n",
    "   \n",
    "   \n",
    "   \n",
    "   \n",
    "   \n",
    "   \n",
    "   \n",
    "例如:\n",
    "\n",
    "要猜的數值是:34\n",
    "\n",
    "猜數字範圍1~100:50\n",
    "提示:\n",
    "再小一點\n",
    "您已經猜了1次\n",
    "\n",
    "猜數字範圍1~49:10\n",
    "提示:\n",
    "再大一點\n",
    "您已經猜了2次\n",
    "猜數字範圍11~49:34\n",
    "\n",
    "您猜中了,答案是34\n",
    "您總共猜了3次\n",
    "\n"
   ]
  },
  {
   "cell_type": "code",
   "execution_count": 2,
   "metadata": {},
   "outputs": [
    {
     "name": "stdout",
     "output_type": "stream",
     "text": [
      "要再小一點\n",
      "要再大一點\n",
      "要再大一點\n",
      "要再大一點\n",
      "要再大一點\n",
      "要再大一點\n",
      "要再大一點\n",
      "要再大一點\n",
      "要再大一點\n",
      "要再大一點\n",
      "要再小一點\n",
      "要再大一點\n",
      "要再大一點\n",
      "要再大一點\n",
      "要再小一點\n",
      "要再小一點\n",
      "要再小一點\n",
      "要再小一點\n",
      "要再小一點\n",
      "要再小一點\n",
      "要再小一點\n",
      "要再小一點\n",
      "要再大一點\n",
      "要再大一點\n",
      "要再大一點\n",
      "恭喜答對\n"
     ]
    }
   ],
   "source": [
    "#猜數字\n",
    "import random\n",
    "ans = random.randint(1,100)\n",
    "guess = 0\n",
    "while guess != ans:\n",
    "    guess = int(input(\"請猜測一個1-100間的數字 : \"))\n",
    "    if guess > ans:\n",
    "        print(\"要再小一點\")\n",
    "    elif guess < ans:\n",
    "        print(\"要再大一點\")\n",
    "    else:\n",
    "        print(\"恭喜答對\")"
   ]
  },
  {
   "cell_type": "code",
   "execution_count": 3,
   "metadata": {},
   "outputs": [
    {
     "name": "stdout",
     "output_type": "stream",
     "text": [
      "6\n",
      "請輸入要猜的數字，在 1 到 100 之間\n",
      "猜到了\n"
     ]
    }
   ],
   "source": [
    "import random\n",
    "answer = random.randint(1,100)\n",
    "print(answer)\n",
    "l=1\n",
    "h=100\n",
    "b = True\n",
    "while (b):\n",
    "    print(\"請輸入要猜的數字，在\", l , \"到\",h ,\"之間\")\n",
    "    guess  =  int(input())\n",
    "    if(answer == guess):\n",
    "        print(\"猜到了\")\n",
    "        b= False\n",
    "    elif(answer< guess):\n",
    "        print(\"猜錯了，比較小\")\n",
    "        h = guess\n",
    "    elif(answer>guess):\n",
    "        print(\"猜錯了，比較大\")\n",
    "        l = guess"
   ]
  }
 ],
 "metadata": {
  "kernelspec": {
   "display_name": ".venv",
   "language": "python",
   "name": "python3"
  },
  "language_info": {
   "codemirror_mode": {
    "name": "ipython",
    "version": 3
   },
   "file_extension": ".py",
   "mimetype": "text/x-python",
   "name": "python",
   "nbconvert_exporter": "python",
   "pygments_lexer": "ipython3",
   "version": "3.10.8"
  },
  "orig_nbformat": 4
 },
 "nbformat": 4,
 "nbformat_minor": 2
}
