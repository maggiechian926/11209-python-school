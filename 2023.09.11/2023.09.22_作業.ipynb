{
 "cells": [
  {
   "cell_type": "code",
   "execution_count": 3,
   "metadata": {},
   "outputs": [
    {
     "name": "stdout",
     "output_type": "stream",
     "text": [
      "請輸入整數，求所有因數:求25的因數\n",
      "1\n",
      "5\n",
      "25\n"
     ]
    }
   ],
   "source": [
    "#求所有因數\n",
    "import  pyinputplus as pyip\n",
    "\n",
    "#num = int(input(\"請輸入整數，求所有因數:\"))\n",
    "a = pyip.inputInt(prompt=\"請輸入整數，求所有因數:\")\n",
    "print (f\"求{a}的因數\")\n",
    "\n",
    "for i in range(1,a+1):\n",
    "    if a % i ==0:\n",
    "        print(i)\n",
    "    else:\n",
    "        pass\n",
    "\n"
   ]
  },
  {
   "cell_type": "code",
   "execution_count": 11,
   "metadata": {},
   "outputs": [
    {
     "name": "stdout",
     "output_type": "stream",
     "text": [
      "請輸入2數,求2數公因數:\n",
      "1\n",
      "2\n"
     ]
    }
   ],
   "source": [
    "#求公因數\n",
    "\n",
    "print(\"請輸入2數,求2數公因數:\")\n",
    "n = int(input('請輸入第1個數:'))\n",
    "m = int(input('請輸入第2個數:'))\n",
    "\n",
    "a = 0\n",
    "if n < m :\n",
    "    a = n\n",
    "else:\n",
    "    a = m\n",
    "    for i in range(1,a+1):\n",
    "        if n % i == 0 and m % i == 0 :\n",
    "            print(i)\n",
    "        else:\n",
    "         pass\n",
    "\n",
    "\n"
   ]
  },
  {
   "cell_type": "code",
   "execution_count": 8,
   "metadata": {},
   "outputs": [
    {
     "name": "stdout",
     "output_type": "stream",
     "text": [
      "1到100的質數是:\n",
      "2,3,5,7,11,13,17,19,23,29,31,37,41,43,47,53,59,61,67,71,73,79,83,89,97,"
     ]
    }
   ],
   "source": [
    "#2~100,每一個的質數\n",
    "a = int(input(\"請輸入end值:\"))\n",
    "print(f\"1到{end}的質數是:\")\n",
    "\n",
    "for i in range(2,a+1):\n",
    "    for c in range (2,i):\n",
    "        if i % c == 0 and i!=c:\n",
    "            break\n",
    "    else:\n",
    "        print(i,end=\",\")"
   ]
  },
  {
   "cell_type": "code",
   "execution_count": 1,
   "metadata": {},
   "outputs": [
    {
     "ename": "IndentationError",
     "evalue": "unexpected indent (3261930071.py, line 14)",
     "output_type": "error",
     "traceback": [
      "\u001b[0;36m  Cell \u001b[0;32mIn[1], line 14\u001b[0;36m\u001b[0m\n\u001b[0;31m    try:\u001b[0m\n\u001b[0m    ^\u001b[0m\n\u001b[0;31mIndentationError\u001b[0m\u001b[0;31m:\u001b[0m unexpected indent\n"
     ]
    }
   ],
   "source": [
    "- 猜中要告知猜了幾次\n",
    "- 沒猜中要有提醒\n",
    "import random\n",
    "min = 1\n",
    "max = 100\n",
    "count = 0\n",
    "target = random.randint(min, max)\n",
    "print(\"===============猜數字遊戲=================:\\n\")\n",
    "while(True):\n",
    "   keyin = input(f\"猜數字範圍{min}~{max}\")\n",
    "   "
   ]
  },
  {
   "cell_type": "code",
   "execution_count": 1,
   "metadata": {},
   "outputs": [
    {
     "name": "stdout",
     "output_type": "stream",
     "text": [
      "要再小一點\n",
      "要再小一點\n",
      "要再小一點\n",
      "要再大一點\n",
      "要再大一點\n",
      "要再小一點\n",
      "要再小一點\n",
      "要再小一點\n",
      "要再小一點\n",
      "要再小一點\n",
      "要再小一點\n",
      "要再小一點\n",
      "要再大一點\n",
      "恭喜答對\n"
     ]
    }
   ],
   "source": [
    "#猜數字\n",
    "import random\n",
    "ans = random.randint(1,100)\n",
    "guess = 0\n",
    "while guess != ans:\n",
    "    guess = int(input(\"請猜測一個1-100間的數字 : \"))\n",
    "    if guess > ans:\n",
    "        print(\"要再小一點\")\n",
    "    elif guess < ans:\n",
    "        print(\"要再大一點\")\n",
    "    else:\n",
    "        print(\"恭喜答對\")"
   ]
  },
  {
   "cell_type": "code",
   "execution_count": 2,
   "metadata": {},
   "outputs": [
    {
     "name": "stdout",
     "output_type": "stream",
     "text": [
      "===============猜數字遊戲=================:\n",
      "猜數字範圍1~100: 100\n",
      "猜到了1次:\n",
      "猜錯了豬頭，再小一點\n",
      "猜數字範圍1~100: 90\n",
      "猜到了2次:\n",
      "猜錯了豬頭，再小一點\n",
      "猜數字範圍1~90: 56\n",
      "猜到了3次:\n",
      "猜錯了豬頭，再小一點\n",
      "猜數字範圍1~56: 55\n",
      "猜到了4次:\n",
      "猜錯了豬頭，再小一點\n",
      "猜數字範圍1~55: 45\n",
      "猜到了5次:\n",
      "猜錯了咕咕雞，再大一點\n",
      "猜數字範圍45~55: 50\n",
      "猜到了6次:\n",
      "猜錯了豬頭，再小一點\n",
      "猜數字範圍45~50: 49\n",
      "猜到了6次:\n",
      "恭喜你！已經猜到了\n"
     ]
    }
   ],
   "source": [
    "import random\n",
    "target = random.randint(1,100)\n",
    "a=1\n",
    "b=100\n",
    "count = 0   \n",
    "print(\"===============猜數字遊戲=================:\")\n",
    "while (True):\n",
    "   \n",
    "    guess  =  int(input(f\"猜數字範圍{a}~{b}\"))\n",
    "    print(f\"猜數字範圍{a}~{b}:\",guess)\n",
    "    if(target == guess):\n",
    "        print(f'猜到了{count}次:')\n",
    "        print(\"恭喜你！已經猜到了\")\n",
    "        break\n",
    "    elif(target < guess):\n",
    "        count += 1\n",
    "        print(f'猜到了{count}次:')\n",
    "        print(\"猜錯了豬頭，再小一點\")\n",
    "        b = guess\n",
    "        continue\n",
    "    elif(target > guess):\n",
    "        count += 1\n",
    "        print(f'猜到了{count}次:')\n",
    "        print(\"猜錯了咕咕雞，再大一點\")\n",
    "        a = guess\n",
    "        continue\n",
    "    "
   ]
  }
 ],
 "metadata": {
  "kernelspec": {
   "display_name": ".venv",
   "language": "python",
   "name": "python3"
  },
  "language_info": {
   "codemirror_mode": {
    "name": "ipython",
    "version": 3
   },
   "file_extension": ".py",
   "mimetype": "text/x-python",
   "name": "python",
   "nbconvert_exporter": "python",
   "pygments_lexer": "ipython3",
   "version": "3.10.8"
  },
  "orig_nbformat": 4
 },
 "nbformat": 4,
 "nbformat_minor": 2
}
