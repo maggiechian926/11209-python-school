{
 "cells": [
  {
   "cell_type": "code",
   "execution_count": 3,
   "metadata": {},
   "outputs": [
    {
     "name": "stdout",
     "output_type": "stream",
     "text": [
      "請輸入整數，求所有因數:求25的因數\n",
      "1\n",
      "5\n",
      "25\n"
     ]
    }
   ],
   "source": [
    "#求所有因數\n",
    "import  pyinputplus as pyip\n",
    "\n",
    "#num = int(input(\"請輸入整數，求所有因數:\"))\n",
    "a = pyip.inputInt(prompt=\"請輸入整數，求所有因數:\")\n",
    "print (f\"求{a}的因數\")\n",
    "\n",
    "for i in range(1,a+1):\n",
    "    if a % i ==0:\n",
    "        print(i)\n",
    "    else:\n",
    "        pass\n",
    "\n"
   ]
  },
  {
   "cell_type": "code",
   "execution_count": null,
   "metadata": {},
   "outputs": [],
   "source": [
    "#求公因數\n",
    "\n",
    "import\n",
    "print(\"請輸入2數,求2數公因數:\")\n",
    "n = int(input('請輸入第1個數:'))\n",
    "m = int(input('請輸入第2個數:'))\n",
    "\n",
    "\n"
   ]
  },
  {
   "cell_type": "code",
   "execution_count": null,
   "metadata": {},
   "outputs": [],
   "source": [
    "2~100,每一個的質數\n",
    "end = int(input(\"請輸入end值:\"))\n",
    "print(f\"1到{end}的質數是:\")"
   ]
  }
 ],
 "metadata": {
  "kernelspec": {
   "display_name": ".venv",
   "language": "python",
   "name": "python3"
  },
  "language_info": {
   "codemirror_mode": {
    "name": "ipython",
    "version": 3
   },
   "file_extension": ".py",
   "mimetype": "text/x-python",
   "name": "python",
   "nbconvert_exporter": "python",
   "pygments_lexer": "ipython3",
   "version": "3.10.8"
  },
  "orig_nbformat": 4
 },
 "nbformat": 4,
 "nbformat_minor": 2
}
