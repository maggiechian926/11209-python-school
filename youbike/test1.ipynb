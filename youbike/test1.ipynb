{
 "cells": [
  {
   "cell_type": "code",
   "execution_count": 4,
   "metadata": {},
   "outputs": [
    {
     "name": "stdout",
     "output_type": "stream",
     "text": [
      "倒數計時:10\n",
      "倒數計時:9\n",
      "倒數計時:8\n",
      "倒數計時:7\n",
      "倒數計時:6\n",
      "倒數計時:5\n",
      "倒數計時:4\n",
      "倒數計時:3\n",
      "倒數計時:2\n",
      "倒數計時:1\n"
     ]
    }
   ],
   "source": [
    "import time\n",
    "def countdown(n:int)->None:\n",
    "    while n > 0:\n",
    "        print(f'倒數計時:{n}')\n",
    "        n -= 1\n",
    "        time.sleep(5)\n",
    "\n",
    "countdown(10)"
   ]
  },
  {
   "cell_type": "code",
   "execution_count": 5,
   "metadata": {},
   "outputs": [
    {
     "name": "stdout",
     "output_type": "stream",
     "text": [
      "倒數計時:10\n"
     ]
    }
   ],
   "source": [
    "import time\n",
    "import threading\n",
    "\n",
    "def countdown(n:int)->None:\n",
    "    while n > 0:\n",
    "        print(f'倒數計時:{n}')\n",
    "        n -= 1\n",
    "        time.sleep(5)\n",
    "\n",
    "t = threading.Thread(target=countdown,args=(10,))\n",
    "t.start()"
   ]
  },
  {
   "cell_type": "code",
   "execution_count": 6,
   "metadata": {},
   "outputs": [
    {
     "name": "stdout",
     "output_type": "stream",
     "text": [
      "倒數計時:10小猴子還在做事\n",
      "\n",
      "小猴子還在做事\n",
      "小猴子還在做事\n",
      "小猴子還在做事\n",
      "小猴子還在做事\n",
      "倒數計時:9\n",
      "倒數計時:9\n",
      "小猴子還在做事\n",
      "小猴子還在做事\n",
      "小猴子還在做事\n",
      "小猴子還在做事\n",
      "小猴子還在做事\n",
      "倒數計時:8\n",
      "倒數計時:8\n",
      "小猴子還在做事\n",
      "小猴子還在做事\n",
      "小猴子還在做事\n",
      "小猴子還在做事\n",
      "小猴子還在做事\n",
      "倒數計時:7\n",
      "倒數計時:7\n",
      "小猴子還在做事\n",
      "小猴子還在做事\n",
      "小猴子還在做事\n",
      "小猴子還在做事\n",
      "小猴子還在做事\n",
      "倒數計時:6倒數計時:6\n",
      "\n",
      "小猴子還在做事\n",
      "小猴子還在做事\n",
      "小猴子還在做事\n",
      "小猴子還在做事\n",
      "小猴子還在做事\n",
      "倒數計時:5倒數計時:5\n",
      "\n",
      "小猴子還在做事\n",
      "小猴子還在做事\n",
      "小猴子還在做事\n",
      "小猴子還在做事\n",
      "小猴子還在做事\n",
      "倒數計時:4倒數計時:4\n",
      "\n",
      "小猴子還在做事\n",
      "小猴子還在做事\n",
      "小猴子還在做事\n",
      "小猴子還在做事\n",
      "小猴子還在做事\n",
      "倒數計時:3倒數計時:3\n",
      "\n",
      "小猴子還在做事\n",
      "小猴子還在做事\n",
      "小猴子還在做事\n",
      "小猴子還在做事\n",
      "小猴子還在做事\n",
      "倒數計時:2倒數計時:2\n",
      "\n",
      "小猴子還在做事\n",
      "小猴子還在做事\n",
      "小猴子還在做事\n",
      "小猴子還在做事\n",
      "小猴子還在做事\n",
      "倒數計時:1倒數計時:1\n",
      "\n",
      "小猴子還在做事\n",
      "小猴子還在做事\n",
      "小猴子還在做事\n",
      "小猴子還在做事\n",
      "小猴子還在做事\n",
      "小猴子已經做完了\n"
     ]
    }
   ],
   "source": [
    "import time\n",
    "import threading\n",
    "\n",
    "def countdown(n:int)->None:\n",
    "    while n > 0:\n",
    "        print(f'倒數計時:{n}')\n",
    "        n -= 1\n",
    "        time.sleep(5)\n",
    "\n",
    "t = threading.Thread(target=countdown,args=(10,))\n",
    "t.start()\n",
    "\n",
    "while t.is_alive():\n",
    "    print('小猴子還在做事')\n",
    "    time.sleep(1)\n",
    "else:\n",
    "    print(\"小猴子已經做完了\")"
   ]
  }
 ],
 "metadata": {
  "kernelspec": {
   "display_name": ".venv",
   "language": "python",
   "name": "python3"
  },
  "language_info": {
   "codemirror_mode": {
    "name": "ipython",
    "version": 3
   },
   "file_extension": ".py",
   "mimetype": "text/x-python",
   "name": "python",
   "nbconvert_exporter": "python",
   "pygments_lexer": "ipython3",
   "version": "3.10.8"
  }
 },
 "nbformat": 4,
 "nbformat_minor": 2
}
