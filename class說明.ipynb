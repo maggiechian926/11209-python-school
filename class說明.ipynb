{
 "cells": [
  {
   "cell_type": "code",
   "execution_count": 1,
   "metadata": {},
   "outputs": [],
   "source": [
    "class BuildRobot():\n",
    "    def __init__(self,armcount,headcount):\n",
    "        self.armcount = armcount\n",
    "        self.headcount = headcount\n"
   ]
  },
  {
   "cell_type": "code",
   "execution_count": 2,
   "metadata": {},
   "outputs": [],
   "source": [
    "normal_robot = BuildRobot(2,1)"
   ]
  },
  {
   "cell_type": "code",
   "execution_count": 3,
   "metadata": {},
   "outputs": [
    {
     "data": {
      "text/plain": [
       "2"
      ]
     },
     "execution_count": 3,
     "metadata": {},
     "output_type": "execute_result"
    }
   ],
   "source": [
    "normal_robot.armcount"
   ]
  },
  {
   "cell_type": "code",
   "execution_count": 4,
   "metadata": {},
   "outputs": [],
   "source": [
    "weird_robot = BuildRobot(4,1)"
   ]
  },
  {
   "cell_type": "code",
   "execution_count": 7,
   "metadata": {},
   "outputs": [
    {
     "data": {
      "text/plain": [
       "1"
      ]
     },
     "execution_count": 7,
     "metadata": {},
     "output_type": "execute_result"
    }
   ],
   "source": [
    "weird_robot.armcount\n",
    "weird_robot.headcount"
   ]
  },
  {
   "cell_type": "code",
   "execution_count": 8,
   "metadata": {},
   "outputs": [],
   "source": [
    "class BuildRobot():\n",
    "    def __init__(self,armcount,headcount):\n",
    "        self.armcount = armcount\n",
    "        self.headcount = headcount\n",
    "    def paintarm(self,color):\n",
    "        print(\"paint arm:\",color)"
   ]
  },
  {
   "cell_type": "code",
   "execution_count": 9,
   "metadata": {},
   "outputs": [],
   "source": [
    "colorful_robot = BuildRobot(2,1) #定義"
   ]
  },
  {
   "cell_type": "code",
   "execution_count": 10,
   "metadata": {},
   "outputs": [
    {
     "name": "stdout",
     "output_type": "stream",
     "text": [
      "paint arm: red\n"
     ]
    }
   ],
   "source": [
    "colorful_robot.paintarm('red') #呼叫"
   ]
  },
  {
   "cell_type": "markdown",
   "metadata": {},
   "source": [
    "# 只有这个class创建的instance，才能call这个method。method是依赖于instance\n",
    "#假如我把上色这个活，外包了。我就在外面另建了个工厂，专门上色，这就是function\n",
    "\n"
   ]
  },
  {
   "cell_type": "code",
   "execution_count": 11,
   "metadata": {},
   "outputs": [
    {
     "name": "stdout",
     "output_type": "stream",
     "text": [
      "paint <__main__.BuildRobot object at 0x1080c0730> arm: red\n"
     ]
    }
   ],
   "source": [
    "def outsourcing_paint(robot,color):\n",
    "    print(\"paint\",robot,\"arm:\",color)\n",
    "\n",
    "outsourcing_paint(colorful_robot,'red')"
   ]
  }
 ],
 "metadata": {
  "kernelspec": {
   "display_name": ".venv",
   "language": "python",
   "name": "python3"
  },
  "language_info": {
   "codemirror_mode": {
    "name": "ipython",
    "version": 3
   },
   "file_extension": ".py",
   "mimetype": "text/x-python",
   "name": "python",
   "nbconvert_exporter": "python",
   "pygments_lexer": "ipython3",
   "version": "3.10.8"
  },
  "orig_nbformat": 4
 },
 "nbformat": 4,
 "nbformat_minor": 2
}
