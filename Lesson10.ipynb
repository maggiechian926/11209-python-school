{
 "cells": [
  {
   "cell_type": "code",
   "execution_count": 8,
   "metadata": {},
   "outputs": [
    {
     "name": "stdout",
     "output_type": "stream",
     "text": [
      "Hello!\n"
     ]
    }
   ],
   "source": [
    "def sayHello():      #駝峰式命名法\n",
    "  print(\"Hello!\")\n",
    "  \n",
    "sayHello()\n"
   ]
  },
  {
   "cell_type": "code",
   "execution_count": 14,
   "metadata": {},
   "outputs": [
    {
     "data": {
      "text/plain": [
       "50"
      ]
     },
     "execution_count": 14,
     "metadata": {},
     "output_type": "execute_result"
    }
   ],
   "source": [
    "def rect_area(width:int,height:int) -> int:\n",
    "    return width * height #return 傳出值生產呼叫 \n",
    "\n",
    "area = rect_area(10,5) #呼叫 \n",
    "area  #要接收"
   ]
  },
  {
   "cell_type": "code",
   "execution_count": 19,
   "metadata": {},
   "outputs": [],
   "source": [
    "def meun(wine:str,entree:str,dessert:str) -> None:\n",
    "    print(f\"餐前酒：{wine}\")\n",
    "    print(f\"主餐:{entree}\")\n",
    "    print(f\"甜點：{dessert}\")\n"
   ]
  },
  {
   "cell_type": "code",
   "execution_count": 20,
   "metadata": {},
   "outputs": [
    {
     "name": "stdout",
     "output_type": "stream",
     "text": [
      "餐前酒：白酒\n",
      "主餐:牛排\n",
      "甜點：蛋糕\n"
     ]
    }
   ],
   "source": [
    "#引數位置呼叫，要依照參數的順序\n",
    "meun(\"白酒\",\"牛排\",\"蛋糕\")"
   ]
  },
  {
   "cell_type": "code",
   "execution_count": 21,
   "metadata": {},
   "outputs": [
    {
     "name": "stdout",
     "output_type": "stream",
     "text": [
      "餐前酒：白酒\n",
      "主餐:牛排\n",
      "甜點：蛋糕\n"
     ]
    }
   ],
   "source": [
    "#引數名稱的呼叫\n",
    "meun(wine=\"白酒\",entree=\"牛排\",dessert=\"蛋糕\")"
   ]
  },
  {
   "cell_type": "code",
   "execution_count": 22,
   "metadata": {},
   "outputs": [
    {
     "name": "stdout",
     "output_type": "stream",
     "text": [
      "餐前酒：白酒\n",
      "主餐:牛排\n",
      "甜點：蛋糕\n"
     ]
    }
   ],
   "source": [
    "#引數名稱的呼叫，可以不依照順序\n",
    "meun(wine=\"白酒\",dessert=\"蛋糕\",entree=\"牛排\")"
   ]
  },
  {
   "cell_type": "code",
   "execution_count": 24,
   "metadata": {},
   "outputs": [
    {
     "name": "stdout",
     "output_type": "stream",
     "text": [
      "餐前酒：白酒\n",
      "主餐:牛排\n",
      "甜點：蛋糕\n"
     ]
    }
   ],
   "source": [
    "#引數位置和引數名稱的混合呼叫\n",
    "#使用引數位置，後面使用引數名稱呼叫\n",
    "#使用引數名稱，後面的引數全部都要用引數名稱\n",
    "meun(\"白酒\",dessert=\"蛋糕\",entree=\"牛排\")\n"
   ]
  },
  {
   "cell_type": "code",
   "execution_count": 29,
   "metadata": {},
   "outputs": [
    {
     "name": "stdout",
     "output_type": "stream",
     "text": [
      "主菜:滷雞腿\n",
      "配菜1:豆芽菜\n",
      "配菜2:家常豆腐\n",
      "配菜3:電話線\n"
     ]
    }
   ],
   "source": [
    "def order(primary:str, second1:str=\"豆芽菜\", second2:str=\"家常豆腐\", second3:str=\"電話線\") -> None:\n",
    "    print(f\"主菜:{primary}\")\n",
    "    print(f\"配菜1:{second1}\")\n",
    "    print(f\"配菜2:{second2}\")\n",
    "    print(f\"配菜3:{second3}\")\n",
    "\n",
    "order(\"滷雞腿\")"
   ]
  },
  {
   "cell_type": "code",
   "execution_count": 30,
   "metadata": {},
   "outputs": [
    {
     "name": "stdout",
     "output_type": "stream",
     "text": [
      "主菜:滷雞腿\n",
      "配菜1:豆芽菜\n",
      "配菜2:家常豆腐\n",
      "配菜3:空心菜\n"
     ]
    }
   ],
   "source": [
    "\n",
    "order(\"滷雞腿\",second3=\"空心菜\")"
   ]
  },
  {
   "cell_type": "code",
   "execution_count": 32,
   "metadata": {},
   "outputs": [
    {
     "name": "stdout",
     "output_type": "stream",
     "text": [
      "('嫩烤蔬菜雞肉捲', '星島海南雞', '薑汁燒肉')\n"
     ]
    }
   ],
   "source": [
    "def buffet_101(*food): # * 呼叫\n",
    "    print(food)\n",
    "\n",
    "buffet_101(\"嫩烤蔬菜雞肉捲\",\"星島海南雞\",\"薑汁燒肉\")"
   ]
  },
  {
   "cell_type": "code",
   "execution_count": 34,
   "metadata": {},
   "outputs": [
    {
     "name": "stdout",
     "output_type": "stream",
     "text": [
      "{'first': '大阪燒', 'second': '章魚燒', 'third': '鐵火丼', 'forth': '鹽烤香魚'}\n"
     ]
    }
   ],
   "source": [
    "def buffet_bella(**food): #沒有限定數量引數呼叫\n",
    "    print(food)\n",
    "buffet_bella(first=\"大阪燒\",second =\"章魚燒\",third=\"鐵火丼\",forth=\"鹽烤香魚\" )\n",
    "    "
   ]
  },
  {
   "cell_type": "code",
   "execution_count": 13,
   "metadata": {},
   "outputs": [
    {
     "name": "stdout",
     "output_type": "stream",
     "text": [
      "60\n",
      "===============猜數字遊戲=================:\n",
      "\n",
      "再小一點\n",
      "您已經猜了1次\n",
      "再大一點\n",
      "您已經猜了2次\n",
      "賓果!猜對了, 答案是:60\n",
      "總共猜了3次\n",
      "還要繼續嗎?(y,n)遊戲結束\n"
     ]
    }
   ],
   "source": [
    "import random\n",
    "import pyinputplus as pyip\n",
    "\n",
    "def playGame() -> None : #None不會傳出東西\n",
    "    min = 1\n",
    "    max = 100\n",
    "    count = 0\n",
    "    target = random.randint(min, max)\n",
    "    print(target)\n",
    "    print(\"===============猜數字遊戲=================:\\n\")\n",
    "    while(True):\n",
    "        count += 1\n",
    "        keyin = int(input(f\"猜數字範圍{min}~{max}\"))\n",
    "        if (1 <= keyin <= max):\n",
    "            if(keyin == target):\n",
    "                print(f\"賓果!猜對了, 答案是:{target}\")\n",
    "                print(f\"總共猜了{count}次\")\n",
    "                break\n",
    "            elif (keyin > target):\n",
    "                print(\"再小一點\")\n",
    "                max = keyin - 1\n",
    "                \n",
    "            elif (keyin < target):\n",
    "                print(\"再大一點\")\n",
    "                min = keyin + 1\n",
    "                \n",
    "            print(f\"您已經猜了{count}次\")\n",
    "        else:\n",
    "            print(\"請輸入提示範圍內的數字\")\n",
    "\n",
    "\n",
    "while True:\n",
    "    playGame()\n",
    "    answer = pyip.inputYesNo(prompt=\"還要繼續嗎?(y,n)\",yesVal='y',noVal='n')\n",
    "    if not (answer == 'y'):\n",
    "        break\n",
    "print(\"遊戲結束\")\n",
    "    "
   ]
  }
 ],
 "metadata": {
  "kernelspec": {
   "display_name": ".venv",
   "language": "python",
   "name": "python3"
  },
  "language_info": {
   "codemirror_mode": {
    "name": "ipython",
    "version": 3
   },
   "file_extension": ".py",
   "mimetype": "text/x-python",
   "name": "python",
   "nbconvert_exporter": "python",
   "pygments_lexer": "ipython3",
   "version": "3.10.8"
  },
  "orig_nbformat": 4
 },
 "nbformat": 4,
 "nbformat_minor": 2
}
