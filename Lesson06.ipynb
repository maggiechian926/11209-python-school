{
 "cells": [
  {
   "cell_type": "code",
   "execution_count": 3,
   "metadata": {},
   "outputs": [],
   "source": [
    "age = 17\n",
    "if age>18:\n",
    "    print(\"成年\")\n",
    "    #利用縮排\n",
    "    "
   ]
  },
  {
   "cell_type": "code",
   "execution_count": 4,
   "metadata": {},
   "outputs": [
    {
     "name": "stdout",
     "output_type": "stream",
     "text": [
      "成年\n"
     ]
    }
   ],
   "source": [
    "age = 21\n",
    "if age>18:\n",
    "    print(\"成年\")\n",
    "    #利用縮排"
   ]
  },
  {
   "cell_type": "code",
   "execution_count": 5,
   "metadata": {},
   "outputs": [
    {
     "data": {
      "text/plain": [
       "(True, False, False)"
      ]
     },
     "execution_count": 5,
     "metadata": {},
     "output_type": "execute_result"
    }
   ],
   "source": [
    "#使用關係（比較）運算子傳出來的值，一定會是布林值。\n",
    "\n",
    "5 == 5,5 != 5 ,3 > 5"
   ]
  },
  {
   "cell_type": "code",
   "execution_count": 2,
   "metadata": {},
   "outputs": [
    {
     "name": "stdout",
     "output_type": "stream",
     "text": [
      "學生總分是:276.15000000000003\n"
     ]
    }
   ],
   "source": [
    "#學生總分為300\n",
    "#有些學生可以加分5%\n",
    "scores = int(input(\"請輸入學生分數(最高分300分):\"))\n",
    "is_add = input(\"請問是否符合加分條件?(y,n)\")\n",
    "\n",
    "if is_add == \"y\":\n",
    "    scores *= 1.05\n",
    "\n",
    "print(f\"學生總分是:{scores}\")"
   ]
  },
  {
   "cell_type": "code",
   "execution_count": 4,
   "metadata": {},
   "outputs": [
    {
     "name": "stdout",
     "output_type": "stream",
     "text": [
      "學生總分是:300\n"
     ]
    }
   ],
   "source": [
    "#學生總分為300\n",
    "#有些學生可以加分5%\n",
    "#如果加分超過300,就以300分為準\n",
    "\n",
    "scores = int(input(\"請輸入學生分數(最高分300分):\"))\n",
    "is_add = input(\"請問是否符合加分條件?(y,n)\")  #True\n",
    "\n",
    "if is_add == \"y\": #True\n",
    "    scores *= 1.05\n",
    "    if scores > 300: #True #False #巢狀判斷\n",
    "        scores = 300\n",
    "        \n",
    "\n",
    "print(f\"學生總分是:{scores}\")"
   ]
  },
  {
   "cell_type": "code",
   "execution_count": 8,
   "metadata": {},
   "outputs": [
    {
     "name": "stdout",
     "output_type": "stream",
     "text": [
      "學生分數不可以大於300\n"
     ]
    }
   ],
   "source": [
    "#學生總分為300\n",
    "#有些學生可以加分5%\n",
    "#如果加分超過300,就以300分為準\n",
    "#縮排不對就會出錯，程式區塊利用縮排\n",
    "\n",
    "scores = int(input(\"請輸入學生分數(最高分300分):\"))\n",
    "if scores <= 300:\n",
    "    is_add = input(\"請問是否符合加分條件?(y,n)\")  #True\n",
    "\n",
    "    if is_add == \"y\": #True\n",
    "       scores *= 1.05\n",
    "       if scores > 300: #True #False #巢狀判斷\n",
    "          scores = 300\n",
    "    print(f\"學生總分是:{scores}\")\n",
    "else:\n",
    "    print(\"學生分數不可以大於300\")        \n",
    "\n"
   ]
  },
  {
   "cell_type": "code",
   "execution_count": 9,
   "metadata": {},
   "outputs": [
    {
     "ename": "ValueError",
     "evalue": "invalid literal for int() with base 10: '310ａ'",
     "output_type": "error",
     "traceback": [
      "\u001b[0;31m---------------------------------------------------------------------------\u001b[0m",
      "\u001b[0;31mValueError\u001b[0m                                Traceback (most recent call last)",
      "\u001b[1;32m/Users/mugen/Documents/11209_python_school/GitHub/11209-python-school/Lesson06.ipynb 儲存格 7\u001b[0m line \u001b[0;36m6\n\u001b[1;32m      <a href='vscode-notebook-cell:/Users/mugen/Documents/11209_python_school/GitHub/11209-python-school/Lesson06.ipynb#X10sZmlsZQ%3D%3D?line=0'>1</a>\u001b[0m \u001b[39m#學生總分為300\u001b[39;00m\n\u001b[1;32m      <a href='vscode-notebook-cell:/Users/mugen/Documents/11209_python_school/GitHub/11209-python-school/Lesson06.ipynb#X10sZmlsZQ%3D%3D?line=1'>2</a>\u001b[0m \u001b[39m#有些學生可以加分5%\u001b[39;00m\n\u001b[1;32m      <a href='vscode-notebook-cell:/Users/mugen/Documents/11209_python_school/GitHub/11209-python-school/Lesson06.ipynb#X10sZmlsZQ%3D%3D?line=2'>3</a>\u001b[0m \u001b[39m#如果加分超過300,就以300分為準\u001b[39;00m\n\u001b[1;32m      <a href='vscode-notebook-cell:/Users/mugen/Documents/11209_python_school/GitHub/11209-python-school/Lesson06.ipynb#X10sZmlsZQ%3D%3D?line=3'>4</a>\u001b[0m \u001b[39m#縮排不對就會出錯，程式區塊利用縮排\u001b[39;00m\n\u001b[0;32m----> <a href='vscode-notebook-cell:/Users/mugen/Documents/11209_python_school/GitHub/11209-python-school/Lesson06.ipynb#X10sZmlsZQ%3D%3D?line=5'>6</a>\u001b[0m scores \u001b[39m=\u001b[39m \u001b[39mint\u001b[39;49m(\u001b[39minput\u001b[39;49m(\u001b[39m\"\u001b[39;49m\u001b[39m請輸入學生分數(最高分300分):\u001b[39;49m\u001b[39m\"\u001b[39;49m))\n\u001b[1;32m      <a href='vscode-notebook-cell:/Users/mugen/Documents/11209_python_school/GitHub/11209-python-school/Lesson06.ipynb#X10sZmlsZQ%3D%3D?line=6'>7</a>\u001b[0m \u001b[39mif\u001b[39;00m scores \u001b[39m<\u001b[39m\u001b[39m=\u001b[39m \u001b[39m300\u001b[39m:\n\u001b[1;32m      <a href='vscode-notebook-cell:/Users/mugen/Documents/11209_python_school/GitHub/11209-python-school/Lesson06.ipynb#X10sZmlsZQ%3D%3D?line=7'>8</a>\u001b[0m     is_add \u001b[39m=\u001b[39m \u001b[39minput\u001b[39m(\u001b[39m\"\u001b[39m\u001b[39m請問是否符合加分條件?(y,n)\u001b[39m\u001b[39m\"\u001b[39m)  \u001b[39m#True\u001b[39;00m\n",
      "\u001b[0;31mValueError\u001b[0m: invalid literal for int() with base 10: '310ａ'"
     ]
    }
   ],
   "source": [
    "#學生總分為300\n",
    "#有些學生可以加分5%\n",
    "#如果加分超過300,就以300分為準\n",
    "#縮排不對就會出錯，程式區塊利用縮排\n",
    "\n",
    "scores = int(input(\"請輸入學生分數(最高分300分):\"))\n",
    "if scores <= 300:\n",
    "    is_add = input(\"請問是否符合加分條件?(y,n)\")  #True\n",
    "\n",
    "    if is_add == \"y\": #True\n",
    "       scores *= 1.05\n",
    "       if scores > 300: #True #False #巢狀判斷\n",
    "          scores = 300\n",
    "    print(f\"學生總分是:{scores}\")\n",
    "else:\n",
    "    print(\"學生分數不可以大於300\")        \n",
    "\n"
   ]
  },
  {
   "cell_type": "code",
   "execution_count": null,
   "metadata": {},
   "outputs": [],
   "source": [
    "\n",
    "#在執行int(input(\"請輸入學生分數(最高分300分):\"))\n",
    "\n",
    "#發出 raise ValueError (當機)\n",
    "\n",
    "#raise 升起錯誤 \n",
    "#(希望不要當機)try:出錯執行>except:      try:沒有出錯執行>else:  \n",
    "\n"
   ]
  },
  {
   "cell_type": "code",
   "execution_count": 16,
   "metadata": {},
   "outputs": [
    {
     "name": "stdout",
     "output_type": "stream",
     "text": [
      "輸入格式有錯誤\n"
     ]
    }
   ],
   "source": [
    "#學生總分為300\n",
    "#有些學生可以加分5%\n",
    "#如果加分超過300,就以300分為準\n",
    "#縮排不對就會出錯，程式區塊利用縮排\n",
    "try:\n",
    "    scores = int(input(\"請輸入學生分數(最高分300分):\"))\n",
    "except:\n",
    "    print(\"輸入格式有錯誤\")    \n",
    "else:    \n",
    "    if scores <= 300:\n",
    "       is_add = input(\"請問是否符合加分條件?(y,n)\")  #True\n",
    "\n",
    "       if is_add == \"y\": #True\n",
    "          scores *= 1.05\n",
    "          if scores > 300: #False \n",
    "              scores = 300\n",
    "       print(f\"學生總分是:{scores}\")\n",
    "    else:\n",
    "        print(\"學生分數不可以大於300\")        \n"
   ]
  },
  {
   "cell_type": "code",
   "execution_count": 18,
   "metadata": {},
   "outputs": [
    {
     "name": "stdout",
     "output_type": "stream",
     "text": [
      "學生分數不可以大於300\n"
     ]
    }
   ],
   "source": [
    "#學生總分為300\n",
    "#有些學生可以加分5%\n",
    "#如果加分超過300,就以300分為準\n",
    "#縮排不對就會出錯，程式區塊利用縮排\n",
    "try:\n",
    "    scores = int(input(\"請輸入學生分數(最高分300分):\"))\n",
    "except:\n",
    "    print(\"輸入格式有錯誤\")    \n",
    "else:    \n",
    "    if scores <= 300:\n",
    "       is_add = input(\"請問是否符合加分條件?(y,n)\")  #True\n",
    "\n",
    "       if is_add == \"y\": #True\n",
    "          scores *= 1.05\n",
    "          if scores > 300: #False \n",
    "              scores = 300\n",
    "       print(f\"學生總分是:{scores}\")\n",
    "    else:\n",
    "        print(\"學生分數不可以大於300\")        \n"
   ]
  }
 ],
 "metadata": {
  "kernelspec": {
   "display_name": ".venv",
   "language": "python",
   "name": "python3"
  },
  "language_info": {
   "codemirror_mode": {
    "name": "ipython",
    "version": 3
   },
   "file_extension": ".py",
   "mimetype": "text/x-python",
   "name": "python",
   "nbconvert_exporter": "python",
   "pygments_lexer": "ipython3",
   "version": "3.10.8"
  },
  "orig_nbformat": 4
 },
 "nbformat": 4,
 "nbformat_minor": 2
}
