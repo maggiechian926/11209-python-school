{
 "cells": [
  {
   "cell_type": "code",
   "execution_count": 3,
   "metadata": {},
   "outputs": [],
   "source": [
    "age = 17\n",
    "if age>18:\n",
    "    print(\"成年\")\n",
    "    #利用縮排\n",
    "    "
   ]
  },
  {
   "cell_type": "code",
   "execution_count": 4,
   "metadata": {},
   "outputs": [
    {
     "name": "stdout",
     "output_type": "stream",
     "text": [
      "成年\n"
     ]
    }
   ],
   "source": [
    "age = 21\n",
    "if age>18:\n",
    "    print(\"成年\")\n",
    "    #利用縮排"
   ]
  },
  {
   "cell_type": "code",
   "execution_count": 5,
   "metadata": {},
   "outputs": [
    {
     "data": {
      "text/plain": [
       "(True, False, False)"
      ]
     },
     "execution_count": 5,
     "metadata": {},
     "output_type": "execute_result"
    }
   ],
   "source": [
    "#使用關係（比較）運算子傳出來的值，一定會是布林值。\n",
    "\n",
    "5 == 5,5 != 5 ,3 > 5"
   ]
  },
  {
   "cell_type": "code",
   "execution_count": 2,
   "metadata": {},
   "outputs": [
    {
     "name": "stdout",
     "output_type": "stream",
     "text": [
      "學生總分是:276.15000000000003\n"
     ]
    }
   ],
   "source": [
    "#學生總分為300\n",
    "#有些學生可以加分5%\n",
    "scores = int(input(\"請輸入學生分數(最高分300分):\"))\n",
    "is_add = input(\"請問是否符合加分條件?(y,n)\")\n",
    "\n",
    "if is_add == \"y\":\n",
    "    scores *= 1.05\n",
    "\n",
    "print(f\"學生總分是:{scores}\")"
   ]
  },
  {
   "cell_type": "code",
   "execution_count": 4,
   "metadata": {},
   "outputs": [
    {
     "name": "stdout",
     "output_type": "stream",
     "text": [
      "學生總分是:300\n"
     ]
    }
   ],
   "source": [
    "#學生總分為300\n",
    "#有些學生可以加分5%\n",
    "#如果加分超過300,就以300分為準\n",
    "\n",
    "scores = int(input(\"請輸入學生分數(最高分300分):\"))\n",
    "is_add = input(\"請問是否符合加分條件?(y,n)\")  #True\n",
    "\n",
    "if is_add == \"y\": #True\n",
    "    scores *= 1.05\n",
    "    if scores > 300: #True #False #巢狀判斷\n",
    "        scores = 300\n",
    "        \n",
    "\n",
    "print(f\"學生總分是:{scores}\")"
   ]
  }
 ],
 "metadata": {
  "kernelspec": {
   "display_name": ".venv",
   "language": "python",
   "name": "python3"
  },
  "language_info": {
   "codemirror_mode": {
    "name": "ipython",
    "version": 3
   },
   "file_extension": ".py",
   "mimetype": "text/x-python",
   "name": "python",
   "nbconvert_exporter": "python",
   "pygments_lexer": "ipython3",
   "version": "3.10.8"
  },
  "orig_nbformat": 4
 },
 "nbformat": 4,
 "nbformat_minor": 2
}
