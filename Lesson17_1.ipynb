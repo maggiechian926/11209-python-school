{
 "cells": [
  {
   "cell_type": "code",
   "execution_count": 26,
   "metadata": {},
   "outputs": [
    {
     "name": "stdout",
     "output_type": "stream",
     "text": [
      "姓名:maggie\n",
      "age:18\n",
      "體重:56\n",
      "身高:170\n"
     ]
    }
   ],
   "source": [
    "class Person():\n",
    "    def __init__(self,name,age=18,weight=56,height=170):\n",
    "        self.name = name\n",
    "        self.age = age\n",
    "        self.weight=weight\n",
    "        self.height=height\n",
    "\n",
    "    def description(self):\n",
    "        print(f\"姓名:{self.name}\")\n",
    "        print(f\"age:{self.age}\")\n",
    "        print(f\"體重:{self.weight}\")\n",
    "        print(f\"身高:{self.height}\")\n",
    "\n",
    "p1 = Person(name=\"maggie\")\n",
    "p1.description()\n"
   ]
  },
  {
   "cell_type": "code",
   "execution_count": 25,
   "metadata": {},
   "outputs": [
    {
     "name": "stdout",
     "output_type": "stream",
     "text": [
      "{'age': 16}\n",
      "姓名:maggie\n",
      "age:16\n",
      "體重:56\n",
      "身高:170\n",
      "id:12345\n"
     ]
    }
   ],
   "source": [
    "class Student(Person):\n",
    "    def __init__ (self,name,id,**kwargs): #**kwargs(取代dfount值)死背就好了\n",
    "        #kwargs = {'age':25,'weight':56,'height':178} #**寫在參數前面是沒有限定數量呼叫\n",
    "        print(kwargs)\n",
    "        super().__init__(name,**kwargs) #前面加＊＊自動轉換\n",
    "        \n",
    "        self.id = id \n",
    "        \n",
    "    def description (self):\n",
    "            super().description() #super繼承附類別\n",
    "            print(f\"id:{self.id}\")\n",
    "        \n",
    "stu1 =Student(name=\"maggie\",id=\"12345\",age=16) \n",
    "stu1.description()\n",
    "        "
   ]
  }
 ],
 "metadata": {
  "kernelspec": {
   "display_name": ".venv",
   "language": "python",
   "name": "python3"
  },
  "language_info": {
   "codemirror_mode": {
    "name": "ipython",
    "version": 3
   },
   "file_extension": ".py",
   "mimetype": "text/x-python",
   "name": "python",
   "nbconvert_exporter": "python",
   "pygments_lexer": "ipython3",
   "version": "3.10.8"
  }
 },
 "nbformat": 4,
 "nbformat_minor": 2
}
