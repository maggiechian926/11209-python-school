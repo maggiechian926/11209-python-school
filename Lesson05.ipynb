{
 "cells": [
  {
   "cell_type": "code",
   "execution_count": 1,
   "metadata": {},
   "outputs": [
    {
     "name": "stdout",
     "output_type": "stream",
     "text": [
      "3數相加的值是: 6.0\n"
     ]
    }
   ],
   "source": [
    "#請以（複合指定運算子）設計程式，讓用者輸入三個任意數，程式會顯示3數相加的總和（float)\n",
    "total = 0\n",
    "keyin = float(input('請輸入第1個數:'))\n",
    "total += keyin\n",
    "keyin = float(input('請輸入第2個數:'))\n",
    "total += keyin\n",
    "keyin = float(input('請輸入第3個數:'))\n",
    "total += keyin\n",
    "\n",
    "print(\"3數相加的值是:\",total)"
   ]
  },
  {
   "cell_type": "code",
   "execution_count": 4,
   "metadata": {},
   "outputs": [
    {
     "name": "stdout",
     "output_type": "stream",
     "text": [
      "梯形的面積: 15.0 平方公分\n"
     ]
    }
   ],
   "source": [
    "#讓使用者輸入梯形的上底、下底及高，程式會計算梯形的面積(上底加下底乘以高除以2)\n",
    "#請輸入梯形的上底(公分):5\n",
    "#請輸入梯形的下底(公分):10\n",
    "#請輸入梯形的高(公分):2\n",
    "#梯形的面積:15平方公分\n",
    "\n",
    "\n",
    "top = float(input('請輸入梯形的上底(公分):'))\n",
    "bottom = float(input('請輸入梯形的下底(公分):'))\n",
    "height = float(input('請輸入梯形的高(公分):'))\n",
    "area = (top + bottom) * height / 2\n",
    "print('梯形的面積:',round(area,ndigits=2),'平方公分')\n"
   ]
  },
  {
   "cell_type": "code",
   "execution_count": 14,
   "metadata": {},
   "outputs": [
    {
     "name": "stdout",
     "output_type": "stream",
     "text": [
      "梯形的面積: 15.0 平方公分\n"
     ]
    }
   ],
   "source": [
    "#讓使用者輸入梯形的上底、下底及高，程式會計算梯形的面積(上底加下底乘以高除以2)\n",
    "#請輸入梯形的上底(公分):5\n",
    "#請輸入梯形的下底(公分):10\n",
    "#請輸入梯形的高(公分):2\n",
    "#梯形的面積:15平方公分\n",
    "\n",
    "\n",
    "top = float(input('請輸入梯形的上底（公分'))\n",
    "bottom =float(input('請輸入梯形的下底（公分）'))\n",
    "height = float (input('請輸入梯形的高'))\n",
    "area = (top+bottom) * height/2\n",
    "print('梯形的面積:',area,'平方公分')\n"
   ]
  }
 ],
 "metadata": {
  "kernelspec": {
   "display_name": ".venv",
   "language": "python",
   "name": "python3"
  },
  "language_info": {
   "codemirror_mode": {
    "name": "ipython",
    "version": 3
   },
   "file_extension": ".py",
   "mimetype": "text/x-python",
   "name": "python",
   "nbconvert_exporter": "python",
   "pygments_lexer": "ipython3",
   "version": "3.10.8"
  },
  "orig_nbformat": 4
 },
 "nbformat": 4,
 "nbformat_minor": 2
}
