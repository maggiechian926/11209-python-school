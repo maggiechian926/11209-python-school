{
 "cells": [
  {
   "cell_type": "code",
   "execution_count": 2,
   "metadata": {},
   "outputs": [
    {
     "name": "stdout",
     "output_type": "stream",
     "text": [
      "Error: 401\n"
     ]
    }
   ],
   "source": [
    "import requests\n",
    "\n",
    "# 目標網站的URL\n",
    "url = 'https://fishdb.sinica.edu.tw/chi/species.php?id=383230'  # 將此處替換為實際的網站URL\n",
    "\n",
    "# 定義假的User-Agent，模擬瀏覽器訪問\n",
    "headers = {\n",
    "    'User-Agent': 'Mozilla/5.0 (Windows NT 10.0; Win64; x64) AppleWebKit/537.36 (KHTML, like Gecko) Chrome/91.0.4472.124 Safari/537.36'\n",
    "}\n",
    "\n",
    "# 發送GET請求並獲取響應\n",
    "response = requests.get(url, headers=headers)\n",
    "\n",
    "# 檢查請求是否成功\n",
    "if response.status_code == 200:\n",
    "    # 繼續處理頁面內容...\n",
    "    print(response.text)\n",
    "else:\n",
    "    print(f\"Error: {response.status_code}\")\n"
   ]
  },
  {
   "cell_type": "code",
   "execution_count": 1,
   "metadata": {},
   "outputs": [
    {
     "name": "stdout",
     "output_type": "stream",
     "text": [
      "Error: 401\n"
     ]
    }
   ],
   "source": [
    "import requests\n",
    "import csv\n",
    "import re\n",
    "\n",
    "# 目標網站的URL\n",
    "url = 'https://fishdb.sinica.edu.tw/chi/species.php?id=383230'  # 將此處替換為實際的網站URL\n",
    "\n",
    "# 定義假的User-Agent，模擬瀏覽器訪問\n",
    "headers = {\n",
    "    'User-Agent': 'Mozilla/5.0 (Windows NT 10.0; Win64; x64) AppleWebKit/537.36 (KHTML, like Gecko) Chrome/91.0.4472.124 Safari/537.36'\n",
    "}\n",
    "\n",
    "# 發送GET請求並獲取響應\n",
    "response = requests.get(url, headers=headers)\n",
    "\n",
    "# 檢查請求是否成功\n",
    "if response.status_code == 200:\n",
    "    # 使用正規表達式提取魚類名錄的資料\n",
    "    fish_data = re.findall(r'<div class=\"fish-name\">(.*?)</div>', response.text, re.DOTALL)\n",
    "\n",
    "    # 創建CSV文件\n",
    "    with open('fish_catalog.csv', 'w', newline='', encoding='utf-8') as csv_file:\n",
    "        # 設定CSV寫入器\n",
    "        csv_writer = csv.writer(csv_file)\n",
    "        \n",
    "        # 寫入標題行\n",
    "        csv_writer.writerow(['Fish Name'])\n",
    "\n",
    "        # 逐一處理每個魚類元素\n",
    "        for fish_name in fish_data:\n",
    "            fish_name = fish_name.strip()\n",
    "            \n",
    "            # 寫入CSV文件\n",
    "            csv_writer.writerow([fish_name])\n",
    "\n",
    "    print(\"資料已成功寫入 fish_catalog.csv\")\n",
    "else:\n",
    "    print(f\"Error: {response.status_code}\")\n"
   ]
  }
 ],
 "metadata": {
  "kernelspec": {
   "display_name": ".venv",
   "language": "python",
   "name": "python3"
  },
  "language_info": {
   "codemirror_mode": {
    "name": "ipython",
    "version": 3
   },
   "file_extension": ".py",
   "mimetype": "text/x-python",
   "name": "python",
   "nbconvert_exporter": "python",
   "pygments_lexer": "ipython3",
   "version": "3.10.8"
  }
 },
 "nbformat": 4,
 "nbformat_minor": 2
}
