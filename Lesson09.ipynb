{
 "cells": [
  {
   "cell_type": "code",
   "execution_count": 12,
   "metadata": {},
   "outputs": [
    {
     "name": "stdout",
     "output_type": "stream",
     "text": [
      "請輸入第1個月份的存款20000\n",
      "目前距離目標還差：19800\n",
      "===============\n",
      "請輸入第2個月份的存款14900\n",
      "目前距離目標還差：4900\n",
      "===============\n",
      "請輸入第3個月份的存款390000\n",
      "===============\n",
      "恭喜！已經存夠了，總存款為：3月份總存款：424900\n"
     ]
    }
   ],
   "source": [
    "#小明想要存錢買輛機車，機車每輛39800元，他將每月存的錢輸入，當存款足夠買機車時，就顯示提示訊息告知。\n",
    "import pyinputplus as pyip\n",
    "\n",
    "month = 0 \n",
    "deposit = 0 \n",
    "while (deposit < 39800):\n",
    "    month += 1\n",
    "    input_value = pyip.inputInt(f\"請輸入第{month}個月份的存款\")\n",
    "    print(input_value)\n",
    "    deposit += input_value\n",
    "    if deposit < 39800:\n",
    "       print(f\"目前距離目標還差：{39800-deposit}\")\n",
    "    print(\"===============\")\n",
    "       \n",
    "   \n",
    "print(f\"恭喜！已經存夠了，總存款為：{month}月份總存款：{deposit}\")    \n"
   ]
  },
  {
   "cell_type": "code",
   "execution_count": 15,
   "metadata": {},
   "outputs": [
    {
     "name": "stdout",
     "output_type": "stream",
     "text": [
      "a\n",
      "b\n"
     ]
    }
   ],
   "source": [
    "#break 直接跳出\n",
    "while(True):\n",
    "    stuff = input(\"請輸入小寫英文字[按q會離開]:\")\n",
    "    if stuff == 'q':\n",
    "        break\n",
    "    print(stuff)"
   ]
  },
  {
   "cell_type": "code",
   "execution_count": 5,
   "metadata": {},
   "outputs": [
    {
     "name": "stdout",
     "output_type": "stream",
     "text": [
      "不做動作,請重新輸入\n",
      "不做動作,請重新輸入\n",
      "9的平方是81\n"
     ]
    }
   ],
   "source": [
    "#奇數輸出平方\n",
    "#偶數不做任何動作\n",
    "while(True):\n",
    "    keyin = input(\"請輸入小寫英文字[按q會離開]:\")\n",
    "    if keyin == 'q':\n",
    "        break\n",
    "    value = int (keyin)\n",
    "    if value % 2 == 0:\n",
    "        print(\"不做動作,請重新輸入\")\n",
    "        continue\n",
    "    else:\n",
    "        print(f\"{value}的平方是{value ** 2}\")\n",
    "    "
   ]
  },
  {
   "cell_type": "code",
   "execution_count": 9,
   "metadata": {},
   "outputs": [
    {
     "name": "stdout",
     "output_type": "stream",
     "text": [
      "豬頭,請輸入整數\n",
      "豬頭,請輸入整數\n",
      "豬頭,請輸入整數\n",
      "豬頭,請輸入整數\n",
      "9的平方是81\n"
     ]
    }
   ],
   "source": [
    "#奇數輸出平方\n",
    "#偶數不做任何動作\n",
    "while(True):\n",
    "    keyin = input(\"請輸入整數,輸入[q]會離開]:\")\n",
    "    if keyin == 'q':\n",
    "        break\n",
    "    try:\n",
    "        value = int(keyin)   #----> raise  \n",
    "    except:\n",
    "        print(\"豬頭,請輸入整數\")\n",
    "        continue\n",
    "    else:\n",
    " \n",
    "        if value % 2 == 0:\n",
    "            print(\"不作動作,請重新輸入\")\n",
    "            continue\n",
    "        else:\n",
    "          print(f\"{value}的平方是{value ** 2}\")\n",
    "    \n",
    "          "
   ]
  },
  {
   "cell_type": "code",
   "execution_count": 2,
   "metadata": {},
   "outputs": [
    {
     "name": "stdout",
     "output_type": "stream",
     "text": [
      "請輸入整數，豬頭\n",
      "1\n"
     ]
    }
   ],
   "source": [
    "#請輸入整數豬頭 -班長答案\n",
    "while (True):\n",
    "    try:\n",
    "        input_value = int(input(\"請輸入整數\"))\n",
    "    except:\n",
    "        print(\"請輸入整數，豬頭\")\n",
    "        continue\n",
    "    else:\n",
    "        print(input_value)\n",
    "    break\n",
    "     "
   ]
  },
  {
   "cell_type": "code",
   "execution_count": 4,
   "metadata": {},
   "outputs": [
    {
     "name": "stdout",
     "output_type": "stream",
     "text": [
      "anc請輸入整數，豬頭\n",
      "apd請輸入整數，豬頭\n",
      "1\n"
     ]
    }
   ],
   "source": [
    "#請輸入整數豬頭 -老師答案\n",
    "while (True):\n",
    "    try:\n",
    "        \n",
    "        key_in = input(\"請輸入整數\")\n",
    "        value = int(key_in) \n",
    "    except:\n",
    "        print(f\"{key_in}請輸入整數，豬頭\")\n",
    "        continue\n",
    "    else:\n",
    "        if value<=20 and value >=10:\n",
    "            break\n",
    "        else:\n",
    "            print(\"數值必須在10~20之間\")\n",
    "            continue\n",
    "      \n",
    "print(input_value)\n",
    "    \n",
    "     "
   ]
  },
  {
   "cell_type": "code",
   "execution_count": 8,
   "metadata": {},
   "outputs": [],
   "source": [
    "def input_int (prompt:str,max:int | None = None,min:int | None = None) -> int :\n",
    "    while (True):\n",
    "        try:\n",
    "            key_in = input(\"prompt\")\n",
    "            value = int(key_in) \n",
    "        except:\n",
    "            print(f\"{key_in}請輸入整數，豬頭\")\n",
    "            continue\n",
    "        else:\n",
    "            if max is not None and min is not None :\n",
    "             if value <= max and value >=min:\n",
    "                return value\n",
    "            else:\n",
    "              print(\"數值必須在10~20之間\")\n",
    "              continue\n",
    "    else:\n",
    "            return value\n",
    "    \n"
   ]
  },
  {
   "cell_type": "code",
   "execution_count": 26,
   "metadata": {},
   "outputs": [
    {
     "data": {
      "text/plain": [
       "30"
      ]
     },
     "execution_count": 26,
     "metadata": {},
     "output_type": "execute_result"
    }
   ],
   "source": [
    "#建立亂數\n",
    "import random\n",
    "random.randint(1,50)"
   ]
  }
 ],
 "metadata": {
  "kernelspec": {
   "display_name": ".venv",
   "language": "python",
   "name": "python3"
  },
  "language_info": {
   "codemirror_mode": {
    "name": "ipython",
    "version": 3
   },
   "file_extension": ".py",
   "mimetype": "text/x-python",
   "name": "python",
   "nbconvert_exporter": "python",
   "pygments_lexer": "ipython3",
   "version": "3.10.8"
  },
  "orig_nbformat": 4
 },
 "nbformat": 4,
 "nbformat_minor": 2
}
