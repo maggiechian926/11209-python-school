{
 "cells": [
  {
   "cell_type": "code",
   "execution_count": 12,
   "metadata": {},
   "outputs": [
    {
     "name": "stdout",
     "output_type": "stream",
     "text": [
      "請輸入第1個月份的存款20000\n",
      "目前距離目標還差：19800\n",
      "===============\n",
      "請輸入第2個月份的存款14900\n",
      "目前距離目標還差：4900\n",
      "===============\n",
      "請輸入第3個月份的存款390000\n",
      "===============\n",
      "恭喜！已經存夠了，總存款為：3月份總存款：424900\n"
     ]
    }
   ],
   "source": [
    "#小明想要存錢買輛機車，機車每輛39800元，他將每月存的錢輸入，當存款足夠買機車時，就顯示提示訊息告知。\n",
    "import pyinputplus as pyip\n",
    "\n",
    "month = 0 \n",
    "deposit = 0 \n",
    "while (deposit < 39800):\n",
    "    month += 1\n",
    "    input_value = pyip.inputInt(f\"請輸入第{month}個月份的存款\")\n",
    "    print(input_value)\n",
    "    deposit += input_value\n",
    "    if deposit < 39800:\n",
    "       print(f\"目前距離目標還差：{39800-deposit}\")\n",
    "    print(\"===============\")\n",
    "       \n",
    "   \n",
    "print(f\"恭喜！已經存夠了，總存款為：{month}月份總存款：{deposit}\")    \n"
   ]
  }
 ],
 "metadata": {
  "kernelspec": {
   "display_name": ".venv",
   "language": "python",
   "name": "python3"
  },
  "language_info": {
   "codemirror_mode": {
    "name": "ipython",
    "version": 3
   },
   "file_extension": ".py",
   "mimetype": "text/x-python",
   "name": "python",
   "nbconvert_exporter": "python",
   "pygments_lexer": "ipython3",
   "version": "3.10.8"
  },
  "orig_nbformat": 4
 },
 "nbformat": 4,
 "nbformat_minor": 2
}
