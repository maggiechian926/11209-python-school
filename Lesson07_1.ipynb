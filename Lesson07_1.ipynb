{
 "cells": [
  {
   "cell_type": "code",
   "execution_count": 2,
   "metadata": {},
   "outputs": [
    {
     "name": "stdout",
     "output_type": "stream",
     "text": [
      "請輸入分數90\n"
     ]
    }
   ],
   "source": [
    "# 90(含)~100分為「優」\n",
    "# 80(含)~89分為「甲」\n",
    "# 70(含)~79分為「乙」\n",
    "# 60(含)~69分為「丙」\n",
    "# 0(含)~59分為「丁」\n",
    "import pyinputplus as pyip\n",
    "scores = pyip.inputInt(prompt=\"請輸入分數\",min=0,max=100)\n",
    "print(scores)\n",
    "scores = 78\n",
    "message = \"\"\n",
    "#巢狀判斷,4個if\n",
    "\n",
    "if  scores >= 90:\n",
    "    message = \"優\"\n",
    "else:\n",
    "    if scores >= 80:\n",
    "        message =\"甲\"\n",
    "    else:\n",
    "       if scores >= 70:\n",
    "        message =\"乙\"\n",
    "       else:\n",
    "            if scores >= 60:\n",
    "                message =\"丙\"\n",
    "            else:\n",
    "             message =\"丁\"\n",
    "    "
   ]
  },
  {
   "cell_type": "code",
   "execution_count": 3,
   "metadata": {},
   "outputs": [
    {
     "name": "stdout",
     "output_type": "stream",
     "text": [
      "請輸入分數:50\n",
      "丁\n"
     ]
    }
   ],
   "source": [
    "# 90(含)~100分為「優」\n",
    "# 80(含)~89分為「甲」\n",
    "# 70(含)~79分為「乙」\n",
    "# 60(含)~69分為「丙」\n",
    "# 0(含)~59分為「丁」\n",
    "import pyinputplus as pyip\n",
    "scores = pyip.inputInt(prompt=\"請輸入分數:\",min=0,max=100)\n",
    "print(scores)\n",
    "message = \"\"\n",
    "#多項選擇,1個if\n",
    "if scores >= 90:\n",
    "    message = \"優\"\n",
    "elif scores >= 80:    \n",
    "    message = \"甲\"\n",
    "elif scores >= 70:     \n",
    "    message = \"乙\"\n",
    "elif scores >= 60:     \n",
    "    message = \"丙\"\n",
    "else:\n",
    "    message = \"丁\"\n",
    "print(message)"
   ]
  },
  {
   "cell_type": "code",
   "execution_count": 10,
   "metadata": {},
   "outputs": [
    {
     "name": "stdout",
     "output_type": "stream",
     "text": [
      "請輸入金額:5000\n",
      "實付金額是：  元\n"
     ]
    }
   ],
   "source": [
    "#輸入顧客購買金額，若金額在\n",
    "#100000元打8折. \n",
    "#50000打85折. \n",
    "#30000打9折. \n",
    "#10000打95折. \n",
    "\n",
    "#請輸入購買金額:130000\n",
    "#實付金額是: 104000.0 元\n",
    "\n",
    "\n",
    "import pyinputplus as pyip\n",
    "scores = pyip.inputInt(prompt=\"請輸入金額:\")\n",
    "print(scores)\n",
    "message =\"\"\n",
    "if scores >= 100000:\n",
    "   message = scores * 0.8\n",
    "elif scores >= 50000:\n",
    "   message = scores * 0.85\n",
    "elif scores >= 30000:\n",
    "    message = scores * 0.9\n",
    "elif scores >= 10000:\n",
    "    message = scores * 0.95\n",
    "else:\n",
    "    message =5000   \n",
    "\n",
    "print('實付金額是：',message,'元')\n",
    "    "
   ]
  },
  {
   "cell_type": "code",
   "execution_count": 20,
   "metadata": {},
   "outputs": [
    {
     "name": "stdout",
     "output_type": "stream",
     "text": [
      "請輸入金額:100000\n",
      "實付金額是： 90000 元\n"
     ]
    }
   ],
   "source": [
    "#輸入顧客購買金額\n",
    "#滿千送百後再打折\n",
    "#100000元打8折. \n",
    "#50000打85折. \n",
    "#30000打9折. \n",
    "#10000打95折.\n",
    "\n",
    "import pyinputplus as pyip\n",
    "money = pyip.inputInt(prompt=\"請輸入金額:\")\n",
    "print(money) \n",
    "discount = money // 1000 * 100 #折扣discount設值為 money //1000*100 (滿千送百) \n",
    "money -= discount\n",
    "\n",
    "if money >= 100000:\n",
    "   message = money * 0.8\n",
    "elif money >= 50000:\n",
    "   message = money * 0.85\n",
    "elif money >= 30000:\n",
    "    message = money * 0.9\n",
    "elif money >= 10000:\n",
    "    message = money * 0.95\n",
    "else:\n",
    "    message = money \n",
    "\n",
    "print('實付金額是：',money,'元')\n"
   ]
  },
  {
   "cell_type": "code",
   "execution_count": 21,
   "metadata": {},
   "outputs": [
    {
     "name": "stdout",
     "output_type": "stream",
     "text": [
      "請輸入國文分數90\n",
      "請輸入數學分數99\n",
      "獎金：500\n"
     ]
    }
   ],
   "source": [
    "\n",
    "#關係運算子\n",
    "# == 兩邊是否相等\n",
    "# > 大於\n",
    "# < 小於\n",
    "# != 兩邊不相等\n",
    "# >= 大於等於\n",
    "# <= 小於等於\n",
    "\n",
    "chinese = pyip.inputInt(\"請輸入國文分數\")\n",
    "print(chinese)\n",
    "math = pyip.inputInt(\"請輸入數學分數\")\n",
    "print(math)\n",
    "\n",
    "#chinese = 1000\n",
    "#math  = 500\n",
    "\n",
    "\n",
    "if chinese == 100 and math == 100:\n",
    "    bonus = 1000\n",
    "elif chinese == 100 or math == 100:\n",
    "    bonus = 500\n",
    "else:\n",
    "    bonus = 0\n",
    "print(f\"獎金：{bonus}\")    \n",
    "    \n",
    "\n"
   ]
  }
 ],
 "metadata": {
  "kernelspec": {
   "display_name": ".venv",
   "language": "python",
   "name": "python3"
  },
  "language_info": {
   "codemirror_mode": {
    "name": "ipython",
    "version": 3
   },
   "file_extension": ".py",
   "mimetype": "text/x-python",
   "name": "python",
   "nbconvert_exporter": "python",
   "pygments_lexer": "ipython3",
   "version": "3.10.8"
  },
  "orig_nbformat": 4
 },
 "nbformat": 4,
 "nbformat_minor": 2
}
