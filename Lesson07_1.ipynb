{
 "cells": [
  {
   "cell_type": "code",
   "execution_count": 1,
   "metadata": {},
   "outputs": [
    {
     "ename": "ModuleNotFoundError",
     "evalue": "No module named 'pyinputplus'",
     "output_type": "error",
     "traceback": [
      "\u001b[0;31m---------------------------------------------------------------------------\u001b[0m",
      "\u001b[0;31mModuleNotFoundError\u001b[0m                       Traceback (most recent call last)",
      "\u001b[1;32m/Users/mugen/Documents/11209_python_school/GitHub/11209-python-school/Lesson07_1.ipynb 儲存格 1\u001b[0m line \u001b[0;36m6\n\u001b[1;32m      <a href='vscode-notebook-cell:/Users/mugen/Documents/11209_python_school/GitHub/11209-python-school/Lesson07_1.ipynb#W0sZmlsZQ%3D%3D?line=0'>1</a>\u001b[0m \u001b[39m# 90(含)~100分為「優」\u001b[39;00m\n\u001b[1;32m      <a href='vscode-notebook-cell:/Users/mugen/Documents/11209_python_school/GitHub/11209-python-school/Lesson07_1.ipynb#W0sZmlsZQ%3D%3D?line=1'>2</a>\u001b[0m \u001b[39m# 80(含)~89分為「甲」\u001b[39;00m\n\u001b[1;32m      <a href='vscode-notebook-cell:/Users/mugen/Documents/11209_python_school/GitHub/11209-python-school/Lesson07_1.ipynb#W0sZmlsZQ%3D%3D?line=2'>3</a>\u001b[0m \u001b[39m# 70(含)~79分為「乙」\u001b[39;00m\n\u001b[1;32m      <a href='vscode-notebook-cell:/Users/mugen/Documents/11209_python_school/GitHub/11209-python-school/Lesson07_1.ipynb#W0sZmlsZQ%3D%3D?line=3'>4</a>\u001b[0m \u001b[39m# 60(含)~69分為「丙」\u001b[39;00m\n\u001b[1;32m      <a href='vscode-notebook-cell:/Users/mugen/Documents/11209_python_school/GitHub/11209-python-school/Lesson07_1.ipynb#W0sZmlsZQ%3D%3D?line=4'>5</a>\u001b[0m \u001b[39m# 0(含)~59分為「丁」\u001b[39;00m\n\u001b[0;32m----> <a href='vscode-notebook-cell:/Users/mugen/Documents/11209_python_school/GitHub/11209-python-school/Lesson07_1.ipynb#W0sZmlsZQ%3D%3D?line=5'>6</a>\u001b[0m \u001b[39mimport\u001b[39;00m \u001b[39mpyinputplus\u001b[39;00m \u001b[39mas\u001b[39;00m \u001b[39mpyip\u001b[39;00m\n\u001b[1;32m      <a href='vscode-notebook-cell:/Users/mugen/Documents/11209_python_school/GitHub/11209-python-school/Lesson07_1.ipynb#W0sZmlsZQ%3D%3D?line=6'>7</a>\u001b[0m scores \u001b[39m=\u001b[39m pyip\u001b[39m.\u001b[39minputInt(prompt\u001b[39m=\u001b[39m\u001b[39m\"\u001b[39m\u001b[39m請輸入分數\u001b[39m\u001b[39m\"\u001b[39m,\u001b[39mmin\u001b[39m\u001b[39m=\u001b[39m\u001b[39m0\u001b[39m,\u001b[39mmax\u001b[39m\u001b[39m=\u001b[39m\u001b[39m100\u001b[39m)\n\u001b[1;32m      <a href='vscode-notebook-cell:/Users/mugen/Documents/11209_python_school/GitHub/11209-python-school/Lesson07_1.ipynb#W0sZmlsZQ%3D%3D?line=7'>8</a>\u001b[0m \u001b[39mprint\u001b[39m(scores)\n",
      "\u001b[0;31mModuleNotFoundError\u001b[0m: No module named 'pyinputplus'"
     ]
    }
   ],
   "source": [
    "# 90(含)~100分為「優」\n",
    "# 80(含)~89分為「甲」\n",
    "# 70(含)~79分為「乙」\n",
    "# 60(含)~69分為「丙」\n",
    "# 0(含)~59分為「丁」\n",
    "import pyinputplus as pyip\n",
    "scores = pyip.inputInt(prompt=\"請輸入分數\",min=0,max=100)\n",
    "print(scores)\n",
    "scores = 78\n",
    "message = \"\"\n",
    "#巢狀判斷,4個if\n",
    "\n",
    "if  scores >= 90:\n",
    "    message = \"優\"\n",
    "else:\n",
    "    if scores >= 80:\n",
    "        message =\"甲\"\n",
    "    else:\n",
    "       if scores >= 70:\n",
    "        message =\"乙\"\n",
    "       else:\n",
    "            if scores >= 60:\n",
    "                message =\"丙\"\n",
    "            else:\n",
    "             message =\"丁\"\n",
    "    "
   ]
  },
  {
   "cell_type": "code",
   "execution_count": 1,
   "metadata": {},
   "outputs": [
    {
     "name": "stdout",
     "output_type": "stream",
     "text": [
      "請輸入分數"
     ]
    },
    {
     "name": "stdout",
     "output_type": "stream",
     "text": [
      "40\n"
     ]
    }
   ],
   "source": [
    "# 90(含)~100分為「優」\n",
    "# 80(含)~89分為「甲」\n",
    "# 70(含)~79分為「乙」\n",
    "# 60(含)~69分為「丙」\n",
    "# 0(含)~59分為「丁」\n",
    "import pyinputplus as pyip\n",
    "scores = pyip.inputInt(prompt=\"請輸入分數\",min=0,max=100)\n",
    "print(scores)\n",
    "scores = 78\n",
    "message = \"\"\n",
    "#巢狀判斷,4個if\n",
    "\n",
    "if  scores >= 90:\n",
    "    message = \"優\"\n",
    "else:\n",
    "    if scores >= 80:\n",
    "        message =\"甲\"\n",
    "    else:\n",
    "       if scores >= 70:\n",
    "        message =\"乙\"\n",
    "       else:\n",
    "            if scores >= 60:\n",
    "                message =\"丙\"\n",
    "            else:\n",
    "             message =\"丁\""
   ]
  }
 ],
 "metadata": {
  "kernelspec": {
   "display_name": ".venv",
   "language": "python",
   "name": "python3"
  },
  "language_info": {
   "codemirror_mode": {
    "name": "ipython",
    "version": 3
   },
   "file_extension": ".py",
   "mimetype": "text/x-python",
   "name": "python",
   "nbconvert_exporter": "python",
   "pygments_lexer": "ipython3",
   "version": "3.10.8"
  },
  "orig_nbformat": 4
 },
 "nbformat": 4,
 "nbformat_minor": 2
}
